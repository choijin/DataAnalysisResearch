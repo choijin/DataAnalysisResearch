{
 "cells": [
  {
   "cell_type": "markdown",
   "metadata": {},
   "source": [
    "# K-mean Cluster\n",
    "\n",
    "Resources: \n",
    "\n",
    "https://www.analyticsvidhya.com/blog/2019/08/comprehensive-guide-k-means-clustering/\n",
    "\n",
    "https://www.youtube.com/watch?v=EItlUEPCIzM&ab_channel=codebasics"
   ]
  },
  {
   "cell_type": "code",
   "execution_count": 47,
   "metadata": {},
   "outputs": [],
   "source": [
    "import warnings;\n",
    "warnings.simplefilter('ignore')"
   ]
  },
  {
   "cell_type": "code",
   "execution_count": 48,
   "metadata": {},
   "outputs": [],
   "source": [
    "import pandas as pd\n",
    "import numpy as np\n",
    "import matplotlib.pyplot as plt\n",
    "from sklearn.cluster import KMeans\n",
    "from sklearn.preprocessing import MinMaxScaler\n",
    "\n",
    "%matplotlib inline\n",
    "from matplotlib.pylab import rcParams\n",
    "rcParams['figure.figsize'] = 8,6"
   ]
  },
  {
   "cell_type": "code",
   "execution_count": 49,
   "metadata": {
    "scrolled": false
   },
   "outputs": [],
   "source": [
    "df = pd.read_csv('df_for_cluster.csv', index_col=0)"
   ]
  },
  {
   "cell_type": "code",
   "execution_count": 50,
   "metadata": {
    "scrolled": true
   },
   "outputs": [
    {
     "data": {
      "text/html": [
       "<div>\n",
       "<style scoped>\n",
       "    .dataframe tbody tr th:only-of-type {\n",
       "        vertical-align: middle;\n",
       "    }\n",
       "\n",
       "    .dataframe tbody tr th {\n",
       "        vertical-align: top;\n",
       "    }\n",
       "\n",
       "    .dataframe thead th {\n",
       "        text-align: right;\n",
       "    }\n",
       "</style>\n",
       "<table border=\"1\" class=\"dataframe\">\n",
       "  <thead>\n",
       "    <tr style=\"text-align: right;\">\n",
       "      <th></th>\n",
       "      <th>frequency</th>\n",
       "      <th>amount</th>\n",
       "    </tr>\n",
       "    <tr>\n",
       "      <th>phrase</th>\n",
       "      <th></th>\n",
       "      <th></th>\n",
       "    </tr>\n",
       "  </thead>\n",
       "  <tbody>\n",
       "    <tr>\n",
       "      <th>cyber physical</th>\n",
       "      <td>99</td>\n",
       "      <td>90468512.0</td>\n",
       "    </tr>\n",
       "    <tr>\n",
       "      <th>cyber-physical systems</th>\n",
       "      <td>434</td>\n",
       "      <td>90199411.0</td>\n",
       "    </tr>\n",
       "    <tr>\n",
       "      <th>mobile users</th>\n",
       "      <td>69</td>\n",
       "      <td>89229327.0</td>\n",
       "    </tr>\n",
       "    <tr>\n",
       "      <th>social networks</th>\n",
       "      <td>101</td>\n",
       "      <td>82746868.0</td>\n",
       "    </tr>\n",
       "    <tr>\n",
       "      <th>service providers</th>\n",
       "      <td>121</td>\n",
       "      <td>82745969.0</td>\n",
       "    </tr>\n",
       "    <tr>\n",
       "      <th>...</th>\n",
       "      <td>...</td>\n",
       "      <td>...</td>\n",
       "    </tr>\n",
       "    <tr>\n",
       "      <th>deep learning</th>\n",
       "      <td>219</td>\n",
       "      <td>19735328.0</td>\n",
       "    </tr>\n",
       "    <tr>\n",
       "      <th>hardware embedded</th>\n",
       "      <td>35</td>\n",
       "      <td>14953507.0</td>\n",
       "    </tr>\n",
       "    <tr>\n",
       "      <th>operating systems</th>\n",
       "      <td>118</td>\n",
       "      <td>11077173.0</td>\n",
       "    </tr>\n",
       "    <tr>\n",
       "      <th>energy consumption</th>\n",
       "      <td>133</td>\n",
       "      <td>9818866.0</td>\n",
       "    </tr>\n",
       "    <tr>\n",
       "      <th>covid-19 pandemic</th>\n",
       "      <td>54</td>\n",
       "      <td>5018672.0</td>\n",
       "    </tr>\n",
       "  </tbody>\n",
       "</table>\n",
       "<p>82 rows × 2 columns</p>\n",
       "</div>"
      ],
      "text/plain": [
       "                        frequency      amount\n",
       "phrase                                       \n",
       "cyber physical                 99  90468512.0\n",
       "cyber-physical systems        434  90199411.0\n",
       "mobile users                   69  89229327.0\n",
       "social networks               101  82746868.0\n",
       "service providers             121  82745969.0\n",
       "...                           ...         ...\n",
       "deep learning                 219  19735328.0\n",
       "hardware embedded              35  14953507.0\n",
       "operating systems             118  11077173.0\n",
       "energy consumption            133   9818866.0\n",
       "covid-19 pandemic              54   5018672.0\n",
       "\n",
       "[82 rows x 2 columns]"
      ]
     },
     "execution_count": 50,
     "metadata": {},
     "output_type": "execute_result"
    }
   ],
   "source": [
    "df.sort_values(by=['amount'], ascending=False)"
   ]
  },
  {
   "cell_type": "code",
   "execution_count": 51,
   "metadata": {},
   "outputs": [
    {
     "data": {
      "text/plain": [
       "Text(0, 0.5, 'frequency')"
      ]
     },
     "execution_count": 51,
     "metadata": {},
     "output_type": "execute_result"
    },
    {
     "data": {
      "image/png": "[encoded data removed]",
      "text/plain": [
       "<Figure size 576x432 with 1 Axes>"
      ]
     },
     "metadata": {
      "needs_background": "light"
     },
     "output_type": "display_data"
    }
   ],
   "source": [
    "plt.scatter(df['amount'],df['frequency'])\n",
    "plt.xlabel('amount')\n",
    "plt.ylabel('frequency')"
   ]
  },
  {
   "cell_type": "code",
   "execution_count": 52,
   "metadata": {
    "scrolled": false
   },
   "outputs": [
    {
     "data": {
      "text/plain": [
       "<matplotlib.legend.Legend at 0x1f5ba005fc8>"
      ]
     },
     "execution_count": 52,
     "metadata": {},
     "output_type": "execute_result"
    },
    {
     "data": {
      "image/png": "[encoded data removed]",
      "text/plain": [
       "<Figure size 576x432 with 1 Axes>"
      ]
     },
     "metadata": {
      "needs_background": "light"
     },
     "output_type": "display_data"
    }
   ],
   "source": [
    "km1 = KMeans(n_clusters=3)\n",
    "y_predicted = km1.fit_predict(df[['amount','frequency']])\n",
    "df['cluster'] = y_predicted\n",
    "df1 = df[df.cluster == 0]\n",
    "df2 = df[df.cluster == 1]\n",
    "df3 = df[df.cluster == 2]\n",
    "\n",
    "plt.scatter(df1.amount,df1['frequency'], color='green', label='cluster0')\n",
    "plt.scatter(df2.amount,df2['frequency'], color='red',label='cluster1')\n",
    "plt.scatter(df3.amount,df3['frequency'], color='black',label='cluster2')\n",
    "\n",
    "plt.xlabel('amount')\n",
    "plt.ylabel('frequency')\n",
    "plt.legend()"
   ]
  },
  {
   "cell_type": "code",
   "execution_count": 53,
   "metadata": {},
   "outputs": [],
   "source": [
    "scaler = MinMaxScaler()\n",
    "df_norm = df.copy()\n",
    "scaler.fit(df_norm[['amount']])\n",
    "df_norm['amount'] = scaler.transform(df_norm[['amount']])\n",
    "\n",
    "scaler.fit(df_norm[['frequency']])\n",
    "df_norm['frequency'] = scaler.transform(df_norm[['frequency']])"
   ]
  },
  {
   "cell_type": "code",
   "execution_count": 54,
   "metadata": {},
   "outputs": [],
   "source": [
    "km = KMeans(n_clusters=4)\n",
    "y_predicted1 = km.fit_predict(df_norm[['amount','frequency']])\n",
    "df_norm['cluster'] = y_predicted1\n",
    "df1_norm = df_norm[df_norm.cluster == 0]\n",
    "df2_norm = df_norm[df_norm.cluster == 1]\n",
    "df3_norm = df_norm[df_norm.cluster == 2]\n",
    "df4_norm = df_norm[df_norm.cluster == 3]"
   ]
  },
  {
   "cell_type": "code",
   "execution_count": 55,
   "metadata": {
    "scrolled": false
   },
   "outputs": [
    {
     "data": {
      "text/plain": [
       "<matplotlib.legend.Legend at 0x1f5ba0d8908>"
      ]
     },
     "execution_count": 55,
     "metadata": {},
     "output_type": "execute_result"
    },
    {
     "data": {
      "image/png": "[encoded data removed]",
      "text/plain": [
       "<Figure size 576x432 with 1 Axes>"
      ]
     },
     "metadata": {
      "needs_background": "light"
     },
     "output_type": "display_data"
    }
   ],
   "source": [
    "plt.scatter(df1_norm.amount,df1_norm['frequency'], color='green', label='cluster1')\n",
    "plt.scatter(df2_norm.amount,df2_norm['frequency'], color='red',label='cluster2')\n",
    "plt.scatter(df3_norm.amount,df3_norm['frequency'], color='black',label='cluster3')\n",
    "plt.scatter(df4_norm.amount,df4_norm['frequency'], color='orange',label='cluster4')\n",
    "plt.scatter(km.cluster_centers_[:,0],km.cluster_centers_[:,1],color='purple',marker='*',label='centroid')\n",
    "\n",
    "plt.xlabel('amount')\n",
    "plt.ylabel('frequency')\n",
    "plt.legend()"
   ]
  },
  {
   "cell_type": "code",
   "execution_count": 56,
   "metadata": {},
   "outputs": [],
   "source": [
    "k_range = range(1,10)\n",
    "sse = []\n",
    "for k in k_range:\n",
    "    km = KMeans(n_clusters=k)\n",
    "    km.fit(df_norm[['amount','frequency']])\n",
    "    sse.append(km.inertia_)"
   ]
  },
  {
   "cell_type": "code",
   "execution_count": 57,
   "metadata": {
    "scrolled": true
   },
   "outputs": [
    {
     "data": {
      "text/plain": [
       "[<matplotlib.lines.Line2D at 0x1f5ba150f48>]"
      ]
     },
     "execution_count": 57,
     "metadata": {},
     "output_type": "execute_result"
    },
    {
     "data": {
      "image/png": "[encoded data removed]",
      "text/plain": [
       "<Figure size 576x432 with 1 Axes>"
      ]
     },
     "metadata": {
      "needs_background": "light"
     },
     "output_type": "display_data"
    }
   ],
   "source": [
    "plt.xlabel('K')\n",
    "plt.ylabel('Sum of squared error')\n",
    "plt.plot(k_range, sse)"
   ]
  }
 ],
 "metadata": {
  "kernelspec": {
   "display_name": "Python 3",
   "language": "python",
   "name": "python3"
  },
  "language_info": {
   "codemirror_mode": {
    "name": "ipython",
    "version": 3
   },
   "file_extension": ".py",
   "mimetype": "text/x-python",
   "name": "python",
   "nbconvert_exporter": "python",
   "pygments_lexer": "ipython3",
   "version": "3.7.4"
  }
 },
 "nbformat": 4,
 "nbformat_minor": 2
}
