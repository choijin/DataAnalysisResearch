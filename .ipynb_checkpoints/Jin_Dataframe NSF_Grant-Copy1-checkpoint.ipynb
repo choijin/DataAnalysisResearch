{
 "cells": [
  {
   "cell_type": "markdown",
   "metadata": {},
   "source": [
    "# Data Analysis for NSF Grant"
   ]
  },
  {
   "cell_type": "markdown",
   "metadata": {},
   "source": [
    "## Import files"
   ]
  },
  {
   "cell_type": "code",
   "execution_count": 126,
   "metadata": {},
   "outputs": [],
   "source": [
    "import xml.etree.ElementTree as ElementTree\n",
    "import os\n",
    "import io\n",
    "import pandas as pd"
   ]
  },
  {
   "cell_type": "markdown",
   "metadata": {},
   "source": [
    "## Method to get all data for all year"
   ]
  },
  {
   "cell_type": "code",
   "execution_count": 127,
   "metadata": {},
   "outputs": [],
   "source": [
    "def get_multiple_years(years_files_list):\n",
    "    df_all_years = pd.DataFrame()\n",
    "    df = pd.DataFrame()\n",
    "    for year in years_files_list:\n",
    "        path = './years/' + str(year)\n",
    "        print(path)\n",
    "        df = get_yearly_df(path)\n",
    "        df_all_years = pd.concat([df_all_years, df])\n",
    "    return df_all_years"
   ]
  },
  {
   "cell_type": "code",
   "execution_count": 128,
   "metadata": {
    "scrolled": false
   },
   "outputs": [],
   "source": [
    "# years_files_list = os.listdir('./years')\n",
    "# years_files_list.remove('.DS_Store')\n",
    "# multiple_years_df = get_multiple_years(years_files_list)"
   ]
  },
  {
   "cell_type": "markdown",
   "metadata": {},
   "source": [
    "## Method to get all data for one year"
   ]
  },
  {
   "cell_type": "code",
   "execution_count": 129,
   "metadata": {
    "scrolled": true
   },
   "outputs": [],
   "source": [
    "def get_yearly_df(path):\n",
    "    df_nsf = pd.DataFrame()   \n",
    "    yearly_file = os.listdir(path)  \n",
    "    for file in yearly_file:\n",
    "        file_path = path + \"/\" + file\n",
    "        try:\n",
    "            tree = ElementTree.parse(file_path)\n",
    "            root = tree.getroot()\n",
    "            lists = []\n",
    "            award = {}\n",
    "            award['award_id'] = root.find('Award/AwardID').text\n",
    "            try:\n",
    "                award['title'] = root.find('Award/AwardTitle').text\n",
    "            except:\n",
    "                award['title'] = None\n",
    "            try: \n",
    "                award['amount'] = root.find('Award/AwardAmount').text\n",
    "            except:\n",
    "                award['amount'] = None\n",
    "            try:\n",
    "                award['institution'] = root.find('Award/Institution/Name').text\n",
    "            except:\n",
    "                award['institution'] = None\n",
    "            try:\n",
    "                award['effective_date'] = root.find('Award/AwardEffectiveDate').text\n",
    "            except:\n",
    "                award['effective_date'] = None\n",
    "            try:\n",
    "                award['expiration_date'] = root.find('Award/AwardExpirationDate').text\n",
    "            except:\n",
    "                award['expiration_date'] = None\n",
    "            try:\n",
    "                award['abstract'] = root.find('Award/AbstractNarration').text\n",
    "            except:\n",
    "                award['abstract'] = None\n",
    "            try:\n",
    "                award['program_element_code'] = root.find('Award/ProgramElement/Code').text\n",
    "            except:\n",
    "                award['program_element_code'] = None\n",
    "            try:\n",
    "                award['program_element_name'] = root.find('Award/ProgramElement/Text').text\n",
    "            except:\n",
    "                award['program_element_name'] = None\n",
    "            try:\n",
    "                award['directorate'] = root.find('Award/Organization/Directorate/Abbreviation').text  \n",
    "            except:\n",
    "                award['directorate'] = None\n",
    "            try:\n",
    "                award['division_code'] = root.find('Award/Organization/Division/Abbreviation').text\n",
    "            except:\n",
    "                award['division_code'] = None\n",
    "            try:\n",
    "                award['division_name'] = root.find('Award/Organization/Division/LongName').text\n",
    "            except:\n",
    "                award['division_name'] = None\n",
    "            try:\n",
    "                award['investigator'] = root.find('Award/Investigator/PI_FULL_NAME').text\n",
    "            except:\n",
    "                award['investigator'] = None\n",
    "            try:\n",
    "                award['state_name'] = root.find('Award/Performance_Institution/StateName').text\n",
    "            except:\n",
    "                award['state_name'] = None\n",
    "            try:\n",
    "                award['state_code'] = root.find('Award/Performance_Institution/StateCode').text\n",
    "            except:\n",
    "                award['state_code'] = None           \n",
    "            try:   \n",
    "                award['ProgramReference'] = []\n",
    "                for program in root.findall('.//ProgramReference'):\n",
    "                    award['ProgramReference'].append(program.find('./Text').text) \n",
    "            except:\n",
    "                award['ProgramReference'] = None\n",
    "            # Appends dictionary inside a list and converts to a data frame.\n",
    "            lists.append(award)\n",
    "            df = pd.DataFrame(lists)\n",
    "            df_nsf = pd.concat([df_nsf, df], sort= False)\n",
    "        except:\n",
    "            print(file_path)\n",
    "            \n",
    "    # Arranges the index column\n",
    "    df_nsf.reset_index(drop=True, inplace=True)\n",
    "    print(\"Complete\")\n",
    "    \n",
    "    return df_nsf"
   ]
  },
  {
   "cell_type": "markdown",
   "metadata": {},
   "source": [
    "## Method for filtering irrelevant grants"
   ]
  },
  {
   "cell_type": "code",
   "execution_count": 130,
   "metadata": {},
   "outputs": [],
   "source": [
    "def filter_grants(df):\n",
    "       \n",
    "    # Filter irrelevant grants\n",
    "    df = df[~df['ProgramReference'].apply(lambda x: 'REU SUPP-Res Exp for Ugrd Supp' in x)]\n",
    "    df = df[~df['ProgramReference'].apply(lambda x: 'RET SITE-Res Exp for Tchr Site' in x)]\n",
    "    df = df[~df['ProgramReference'].apply(lambda x: 'Improv Undergrad STEM Ed(IUSE)' in x)]\n",
    "    df = df[~df['ProgramReference'].apply(lambda x: 'UNDERGRADUATE EDUCATION' in x)]\n",
    "    df = df[~df['ProgramReference'].apply(lambda x: 'CONFERENCE AND WORKSHOPS' in x)]\n",
    "    df = df[~df['ProgramReference'].apply(lambda x: 'HBCU-Strengthening Research Capacities' in x)]\n",
    "    df = df[~df['title'].apply(lambda x: 'STTR' in x)]\n",
    "    df = df[~df['title'].apply(lambda x: 'SBIR' in x)]\n",
    "    df = df[~df['title'].apply(lambda x: 'REU' in x)]\n",
    "    df = df[~df['title'].str.contains(\"conference\", case = False)]\n",
    "    # Alternative: df = df[df['title'].str.contains(\"conference\", case = False) == False]\n",
    "    \n",
    "    return df"
   ]
  },
  {
   "cell_type": "markdown",
   "metadata": {},
   "source": [
    "## Cleans title to be the last two elements of a \":\" separated list"
   ]
  },
  {
   "cell_type": "code",
   "execution_count": null,
   "metadata": {},
   "outputs": [],
   "source": [
    "def clean_title(title):\n",
    "    if(\":\" not in title):\n",
    "        return title\n",
    "    split_title = title.split(\":\")\n",
    "    title_with_last_two = split_title[-2:]\n",
    "    if(len(title_with_last_two[0]) > 1):\n",
    "        return (\":\").join(title_with_last_two)\n",
    "    return title_with_last_two[1]"
   ]
  },
  {
   "cell_type": "markdown",
   "metadata": {},
   "source": [
    "## Method for filtering common words"
   ]
  },
  {
   "cell_type": "code",
   "execution_count": 171,
   "metadata": {},
   "outputs": [],
   "source": [
    "def filter_stopwords1(df, stop):\n",
    "\n",
    "    # Takes out all the symbols. ***It removes dashes too ***   \n",
    "    df['title'] = df['title'].str.replace(\"[^\\w\\s]\", \"\").str.lower()\n",
    "\n",
    "    # Takes out stopwords in the title.\n",
    "    df['title'] = df['title'].apply(lambda x: [item for item in x.split() if item not in stop])\n",
    "\n",
    "    # Takes out all the symbols.\n",
    "    df['abstract'] = df['abstract'].str.replace(\"[^\\w\\s]\", \"\").str.lower()\n",
    "\n",
    "    # Takes out stopwords in the title.\n",
    "    df['abstract'] = df['abstract'].apply(lambda x: [item for item in x.split() if item not in stop])\n",
    "    \n",
    "    return df"
   ]
  },
  {
   "cell_type": "code",
   "execution_count": 172,
   "metadata": {},
   "outputs": [],
   "source": [
    "def filter_stopwords(df, stop):\n",
    "    # This function removes all characters except dash symbol   \n",
    "    punct = '!\"#$%&\\'()*+,./:;<=>?@[\\\\]^_`{}~'   # `|` is not present here\n",
    "    transtab = str.maketrans(dict.fromkeys(punct, ''))\n",
    "    df['title'] = '|'.join(df['title'].tolist()).translate(transtab).split('|')\n",
    "    df['abstract'] = '|'.join(df['abstract'].tolist()).translate(transtab).split('|')\n",
    "    \n",
    "    # Convert to lower case\n",
    "    df['title'] = df['title'].apply(lambda x: x.lower())\n",
    "    df['abstract'] = df['abstract'].apply(lambda x: x.lower())\n",
    "    \n",
    "    # Remove stopwords\n",
    "    df['title'] = df['title'].apply(lambda x: [item for item in x.split() if item not in stop])\n",
    "    df['abstract'] = df['abstract'].apply(lambda x: [item for item in x.split() if item not in stop])\n",
    "    return df"
   ]
  },
  {
   "cell_type": "markdown",
   "metadata": {},
   "source": [
    "## Method for counting frequency of a word"
   ]
  },
  {
   "cell_type": "code",
   "execution_count": 173,
   "metadata": {},
   "outputs": [],
   "source": [
    "# Find frequency of each word in a string in Python using dictionary.   \n",
    "def count(elements, dictionary):\n",
    "    # If there exists a key as \"elements\" then simply\n",
    "    # increase its value.\n",
    "    if elements in dictionary:\n",
    "        dictionary[elements] += 1\n",
    "   \n",
    "    # If the dictionary does not have the key as \"elements\" \n",
    "    # then create a key \"elements\" and assign its value to 1.\n",
    "    else:\n",
    "        dictionary.update({elements: 1}) "
   ]
  },
  {
   "cell_type": "markdown",
   "metadata": {},
   "source": [
    "## Method for creating dictionary of word count"
   ]
  },
  {
   "cell_type": "code",
   "execution_count": 174,
   "metadata": {},
   "outputs": [],
   "source": [
    "def dict_frequency(df, column):\n",
    "    dictionary = {} \n",
    "    for rows in df[column]:\n",
    "        # Take each word from lst and pass it to the method count.\n",
    "        for elements in rows:\n",
    "            count(elements, dictionary)\n",
    "            \n",
    "    sorted_dict = sorted(dictionary.items(), key=lambda x: x[1], reverse=True) \n",
    "    \n",
    "    return sorted_dict"
   ]
  },
  {
   "cell_type": "markdown",
   "metadata": {},
   "source": [
    "## Create a dataframe for a given year"
   ]
  },
  {
   "cell_type": "code",
   "execution_count": 175,
   "metadata": {
    "scrolled": true
   },
   "outputs": [
    {
     "name": "stdout",
     "output_type": "stream",
     "text": [
      "Complete\n",
      "Complete\n",
      "Complete\n",
      "Complete\n"
     ]
    }
   ],
   "source": [
    "df_2020 = get_yearly_df('./years/2020/')\n",
    "# df_2019 = get_yearly_df('./years/2019/')\n",
    "# df_2018 = get_yearly_df('./years/2018/')\n",
    "# df_2017 = get_yearly_df('./years/2017/')"
   ]
  },
  {
   "cell_type": "markdown",
   "metadata": {},
   "source": [
    "## Remove null values for abstract and division_code"
   ]
  },
  {
   "cell_type": "code",
   "execution_count": 183,
   "metadata": {},
   "outputs": [],
   "source": [
    "def remove_null(df):\n",
    "    df = df[pd.notnull(df['abstract'])]\n",
    "    df = df[pd.notnull(df['division_code'])]\n",
    "    \n",
    "    return df"
   ]
  },
  {
   "cell_type": "code",
   "execution_count": 184,
   "metadata": {
    "scrolled": true
   },
   "outputs": [],
   "source": [
    "# Drop abstracts/division code that are null\n",
    "df_2020 = remove_null(df_2020)\n",
    "# df_2019 = remove_null(df_2019)\n",
    "# df_2018 = remove_null(df_2018)\n",
    "# df_2017 = remove_null(df_2017)\n",
    "    \n",
    "# Working with Division of Computer and Network System\n",
    "df_2020 = df_2020[df_2020['division_code'].str.contains(\"CNS\")]\n",
    "# df_2019 = df_2019[df_2019['division_code'].str.contains(\"CNS\")]\n",
    "# df_2018 = df_2018[df_2018['division_code'].str.contains(\"CNS\")]\n",
    "# df_2017 = df_2017[df_2017['division_code'].str.contains(\"CNS\")]"
   ]
  },
  {
   "cell_type": "markdown",
   "metadata": {},
   "source": [
    "## Filter irrelevant grants"
   ]
  },
  {
   "cell_type": "code",
   "execution_count": 185,
   "metadata": {
    "scrolled": true
   },
   "outputs": [],
   "source": [
    "# Calll method that filters irrelevant grants\n",
    "df_2020_fg = filter_grants(df_2020)\n",
    "df_2019_fg = filter_grants(df_2019)\n",
    "df_2018_fg = filter_grants(df_2018)\n",
    "df_2017_fg = filter_grants(df_2017)\n",
    "\n"
   ]
  },
  {
   "cell_type": "markdown",
   "metadata": {},
   "source": [
    "## Filter stopwords"
   ]
  },
  {
   "cell_type": "code",
   "execution_count": null,
   "metadata": {},
   "outputs": [],
   "source": [
    "# Stores list of stopwords. \n",
    "\n",
    "# Import nltk and download stopwords if first time.\n",
    "# import nltk \n",
    "# nltk.download('stopwords')\n",
    "\n",
    "from nltk.corpus import stopwords\n",
    "\n",
    "stop = stopwords.words('english')\n",
    "\n",
    "# Calll method that filters stopwords\n",
    "df_2020_filtered = filter_stopwords(df_2020_fg, stop)\n",
    "# df_2019_filtered = filter_stopwords(df_2019_fg, stop)\n",
    "# df_2018_filtered = filter_stopwords(df_2018_fg, stop)\n",
    "# df_2017_filtered = filter_stopwords(df_2017_fg, stop)"
   ]
  },
  {
   "cell_type": "code",
   "execution_count": 186,
   "metadata": {},
   "outputs": [],
   "source": [
    "# Combine all filtered years\n",
    "df_combined = [df_2020_filtered, df_2019_filtered, df_2018_filtered, df_2017_filtered]\n",
    "df_filtered_combined = pd.concat(df_combined)"
   ]
  },
  {
   "cell_type": "markdown",
   "metadata": {},
   "source": [
    "## Find frequency of each word in title and abstract"
   ]
  },
  {
   "cell_type": "code",
   "execution_count": 187,
   "metadata": {},
   "outputs": [],
   "source": [
    "# Find frequency of each word in the title\n",
    "freq_title = dict_frequency(df_filtered_combined, 'title')\n",
    "\n",
    "# Find frequency of each word in the abstract\n",
    "freq_abstract = dict_frequency(df_filtered_combined, 'abstract')"
   ]
  },
  {
   "cell_type": "markdown",
   "metadata": {},
   "source": [
    "## Display the frequencies"
   ]
  },
  {
   "cell_type": "code",
   "execution_count": 188,
   "metadata": {
    "scrolled": true
   },
   "outputs": [
    {
     "name": "stdout",
     "output_type": "stream",
     "text": [
      "Frequency of  collaborative : 854 \n",
      "Frequency of  research : 687 \n",
      "Frequency of  small : 585 \n",
      "Frequency of  core : 543 \n",
      "Frequency of  satc : 438 \n",
      "Frequency of  medium : 362 \n",
      "Frequency of  systems : 265 \n",
      "Frequency of  cns : 214 \n",
      "Frequency of  career : 208 \n",
      "Frequency of  cps : 187 \n",
      "Frequency of  networks : 166 \n",
      "Frequency of  data : 158 \n",
      "Frequency of  learning : 157 \n",
      "Frequency of  nets : 152 \n",
      "Frequency of  computing : 150 \n",
      "Frequency of  security : 148 \n",
      "Frequency of  eager : 145 \n",
      "Frequency of  network : 127 \n",
      "Frequency of  csr : 122 \n",
      "Frequency of  wireless : 122 \n",
      "Frequency of  mobile : 108 \n",
      "Frequency of  towards : 107 \n",
      "Frequency of  secure : 105 \n",
      "Frequency of  control : 98 \n",
      "Frequency of  i-corps : 98 \n",
      "Frequency of  system : 97 \n",
      "Frequency of  university : 95 \n",
      "Frequency of  infrastructure : 93 \n",
      "Frequency of  privacy : 91 \n",
      "Frequency of  crii : 89 \n"
     ]
    }
   ],
   "source": [
    "for i in range(30):\n",
    "    x,y = freq_title[i]\n",
    "    print(\"Frequency of \", x , end = \" \")\n",
    "    print(\":\", end = \" \")\n",
    "    print(y, end = \" \")\n",
    "    print()"
   ]
  },
  {
   "cell_type": "code",
   "execution_count": 189,
   "metadata": {
    "scrolled": true
   },
   "outputs": [
    {
     "name": "stdout",
     "output_type": "stream",
     "text": [
      "Frequency of  project : 7593 \n",
      "Frequency of  research : 4919 \n",
      "Frequency of  data : 4476 \n",
      "Frequency of  systems : 3232 \n",
      "Frequency of  new : 2980 \n",
      "Frequency of  support : 2816 \n",
      "Frequency of  using : 2739 \n",
      "Frequency of  network : 2208 \n",
      "Frequency of  security : 2143 \n",
      "Frequency of  broader : 2045 \n",
      "Frequency of  impacts : 2021 \n",
      "Frequency of  system : 1968 \n",
      "Frequency of  evaluation : 1962 \n",
      "Frequency of  applications : 1841 \n",
      "Frequency of  intellectual : 1838 \n",
      "Frequency of  foundations : 1828 \n",
      "Frequency of  design : 1827 \n",
      "Frequency of  award : 1807 \n",
      "Frequency of  mission : 1802 \n",
      "Frequency of  merit : 1757 \n",
      "Frequency of  computing : 1754 \n",
      "Frequency of  students : 1731 \n",
      "Frequency of  review : 1728 \n",
      "Frequency of  criteria : 1726 \n",
      "Frequency of  nsfs : 1720 \n",
      "Frequency of  reflects : 1714 \n",
      "Frequency of  deemed : 1711 \n",
      "Frequency of  learning : 1707 \n",
      "Frequency of  statutory : 1706 \n",
      "Frequency of  worthy : 1706 \n"
     ]
    }
   ],
   "source": [
    "for i in range(30):\n",
    "    x,y = freq_abstract[i]\n",
    "    print(\"Frequency of \", x , end = \" \")\n",
    "    print(\":\", end = \" \")\n",
    "    print(y, end = \" \")\n",
    "    print()"
   ]
  },
  {
   "cell_type": "code",
   "execution_count": null,
   "metadata": {},
   "outputs": [],
   "source": []
  }
 ],
 "metadata": {
  "kernelspec": {
   "display_name": "Python 3",
   "language": "python",
   "name": "python3"
  },
  "language_info": {
   "codemirror_mode": {
    "name": "ipython",
    "version": 3
   },
   "file_extension": ".py",
   "mimetype": "text/x-python",
   "name": "python",
   "nbconvert_exporter": "python",
   "pygments_lexer": "ipython3",
   "version": "3.7.6"
  }
 },
 "nbformat": 4,
 "nbformat_minor": 4
}
