{
 "cells": [
  {
   "cell_type": "markdown",
   "metadata": {},
   "source": [
    "# Load XML "
   ]
  },
  {
   "cell_type": "code",
   "execution_count": 2,
   "metadata": {},
   "outputs": [],
   "source": [
    "import xml.etree.ElementTree as ElementTree\n",
    "import os\n",
    "import io\n",
    "import pandas as pd\n",
    "import numpy as np"
   ]
  },
  {
   "cell_type": "code",
   "execution_count": 5,
   "metadata": {},
   "outputs": [],
   "source": [
    "def get_yearly_df(path):\n",
    "    print(\"File is processing...\")\n",
    "    df_nsf = pd.DataFrame()   \n",
    "    yearly_file = os.listdir(path)  \n",
    "    for file in yearly_file:\n",
    "        file_path = path + \"/\" + file\n",
    "        try:\n",
    "            tree = ElementTree.parse(file_path)\n",
    "            root = tree.getroot()\n",
    "            lists = []\n",
    "            award = {}\n",
    "            award['award_id'] = root.find('Award/AwardID').text\n",
    "            try:\n",
    "                award['title'] = root.find('Award/AwardTitle').text\n",
    "            except:\n",
    "                award['title'] = None\n",
    "            try: \n",
    "                award['amount'] = root.find('Award/AwardAmount').text\n",
    "            except:\n",
    "                award['amount'] = None\n",
    "            try:\n",
    "                award['institution'] = root.find('Award/Institution/Name').text\n",
    "            except:\n",
    "                award['institution'] = None\n",
    "            try:\n",
    "                award['effective_date'] = root.find('Award/AwardEffectiveDate').text\n",
    "            except:\n",
    "                award['effective_date'] = None\n",
    "            try:\n",
    "                award['expiration_date'] = root.find('Award/AwardExpirationDate').text\n",
    "            except:\n",
    "                award['expiration_date'] = None\n",
    "            try:\n",
    "                award['abstract'] = root.find('Award/AbstractNarration').text\n",
    "            except:\n",
    "                award['abstract'] = None\n",
    "            try:\n",
    "                award['program_element_code'] = root.find('Award/ProgramElement/Code').text\n",
    "            except:\n",
    "                award['program_element_code'] = None\n",
    "            try:\n",
    "                award['program_element_name'] = root.find('Award/ProgramElement/Text').text\n",
    "            except:\n",
    "                award['program_element_name'] = None\n",
    "            try:\n",
    "                award['directorate'] = root.find('Award/Organization/Directorate/Abbreviation').text  \n",
    "            except:\n",
    "                award['directorate'] = None\n",
    "            try:\n",
    "                award['division_code'] = root.find('Award/Organization/Division/Abbreviation').text\n",
    "            except:\n",
    "                award['division_code'] = None\n",
    "            try:\n",
    "                award['division_name'] = root.find('Award/Organization/Division/LongName').text\n",
    "            except:\n",
    "                award['division_name'] = None\n",
    "            try:\n",
    "                award['investigator'] = root.find('Award/Investigator/PI_FULL_NAME').text\n",
    "            except:\n",
    "                award['investigator'] = None\n",
    "            try:\n",
    "                award['state_name'] = root.find('Award/Performance_Institution/StateName').text\n",
    "            except:\n",
    "                award['state_name'] = None\n",
    "            try:\n",
    "                award['state_code'] = root.find('Award/Performance_Institution/StateCode').text\n",
    "            except:\n",
    "                award['state_code'] = None           \n",
    "            try:   \n",
    "                award['ProgramReference'] = []\n",
    "                for program in root.findall('.//ProgramReference'):\n",
    "                    award['ProgramReference'].append(program.find('./Text').text) \n",
    "            except:\n",
    "                award['ProgramReference'] = None\n",
    "            # Appends dictionary inside a list and converts to a data frame.\n",
    "            lists.append(award)\n",
    "            df = pd.DataFrame(lists)\n",
    "            df_nsf = pd.concat([df_nsf, df], sort= False)\n",
    "        except:\n",
    "            print(file_path)\n",
    "            \n",
    "    # Arranges the index column\n",
    "    df_nsf.reset_index(drop=True, inplace=True)\n",
    "    print(\"Complete\")\n",
    "    \n",
    "    return df_nsf"
   ]
  },
  {
   "cell_type": "code",
   "execution_count": null,
   "metadata": {
    "scrolled": true
   },
   "outputs": [],
   "source": [
    "df_2021 = get_yearly_df('./years/2021/')"
   ]
  },
  {
   "cell_type": "code",
   "execution_count": null,
   "metadata": {
    "scrolled": true
   },
   "outputs": [],
   "source": [
    "df_2020 = get_yearly_df('./years/2020/')\n",
    "df_2019 = get_yearly_df('./years/2019/')\n",
    "df_2018 = get_yearly_df('./years/2018/')\n",
    "df_2017 = get_yearly_df('./years/2017/')\n",
    "df_2016 = get_yearly_df('./years/2016/')\n",
    "df_2015 = get_yearly_df('./years/2015/')\n",
    "df_2014 = get_yearly_df('./years/2014/')\n",
    "df_2013 = get_yearly_df('./years/2013/')\n",
    "df_2012 = get_yearly_df('./years/2012/')"
   ]
  },
  {
   "cell_type": "code",
   "execution_count": null,
   "metadata": {
    "scrolled": true
   },
   "outputs": [],
   "source": [
    "df_2012 = get_yearly_df('./years/2012/')\n",
    "df_2011 = get_yearly_df('./years/2011/')\n",
    "df_2010 = get_yearly_df('./years/2010/')\n",
    "df_2009 = get_yearly_df('./years/2009/')\n",
    "df_2008 = get_yearly_df('./years/2008/')\n",
    "df_2007 = get_yearly_df('./years/2007/')\n",
    "df_2006 = get_yearly_df('./years/2006/')\n",
    "df_2005 = get_yearly_df('./years/2005/')\n",
    "df_2004 = get_yearly_df('./years/2004/')\n",
    "df_2003 = get_yearly_df('./years/2003/')\n",
    "df_2002 = get_yearly_df('./years/2002/')\n",
    "df_2001 = get_yearly_df('./years/2001/')\n",
    "df_2000 = get_yearly_df('./years/2000/')"
   ]
  },
  {
   "cell_type": "markdown",
   "metadata": {},
   "source": [
    "# Save DataFrame to csv"
   ]
  },
  {
   "cell_type": "code",
   "execution_count": null,
   "metadata": {},
   "outputs": [],
   "source": [
    "df_2021.to_csv('years_csv/df_2021.csv')"
   ]
  },
  {
   "cell_type": "code",
   "execution_count": 9,
   "metadata": {},
   "outputs": [],
   "source": [
    "df_2020.to_csv('years_csv/df_2020.csv')\n",
    "df_2019.to_csv('years_csv/df_2019.csv')\n",
    "df_2018.to_csv('years_csv/df_2018.csv')\n",
    "df_2017.to_csv('years_csv/df_2017.csv')\n",
    "df_2016.to_csv('years_csv/df_2016.csv')\n",
    "df_2015.to_csv('years_csv/df_2015.csv')\n",
    "df_2014.to_csv('years_csv/df_2014.csv')\n",
    "df_2013.to_csv('years_csv/df_2013.csv')\n",
    "df_2012.to_csv('years_csv/df_2012.csv')"
   ]
  },
  {
   "cell_type": "code",
   "execution_count": 5,
   "metadata": {},
   "outputs": [],
   "source": [
    "df_2012.to_csv('years_csv/df_2012.csv')\n",
    "df_2011.to_csv('years_csv/df_2011.csv')\n",
    "df_2010.to_csv('years_csv/df_2010.csv')\n",
    "df_2009.to_csv('years_csv/df_2009.csv')\n",
    "df_2008.to_csv('years_csv/df_2008.csv')\n",
    "df_2007.to_csv('years_csv/df_2007.csv')\n",
    "df_2006.to_csv('years_csv/df_2006.csv')\n",
    "df_2005.to_csv('years_csv/df_2005.csv')\n",
    "df_2004.to_csv('years_csv/df_2004.csv')\n",
    "df_2003.to_csv('years_csv/df_2003.csv')\n",
    "df_2002.to_csv('years_csv/df_2002.csv')\n",
    "df_2001.to_csv('years_csv/df_2001.csv')\n",
    "df_2000.to_csv('years_csv/df_2000.csv')"
   ]
  },
  {
   "cell_type": "code",
   "execution_count": null,
   "metadata": {},
   "outputs": [],
   "source": []
  }
 ],
 "metadata": {
  "kernelspec": {
   "display_name": "Python 3",
   "language": "python",
   "name": "python3"
  },
  "language_info": {
   "codemirror_mode": {
    "name": "ipython",
    "version": 3
   },
   "file_extension": ".py",
   "mimetype": "text/x-python",
   "name": "python",
   "nbconvert_exporter": "python",
   "pygments_lexer": "ipython3",
   "version": "3.8.8"
  }
 },
 "nbformat": 4,
 "nbformat_minor": 2
}
