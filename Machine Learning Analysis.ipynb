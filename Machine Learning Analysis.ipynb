{
 "cells": [
  {
   "cell_type": "markdown",
   "metadata": {},
   "source": [
    "# K-mean Cluster\n",
    "\n",
    "Resources: \n",
    "\n",
    "https://www.analyticsvidhya.com/blog/2019/08/comprehensive-guide-k-means-clustering/\n",
    "\n",
    "https://www.youtube.com/watch?v=EItlUEPCIzM&ab_channel=codebasics"
   ]
  },
  {
   "cell_type": "code",
   "execution_count": 62,
   "metadata": {},
   "outputs": [],
   "source": [
    "import warnings;\n",
    "warnings.simplefilter('ignore')"
   ]
  },
  {
   "cell_type": "code",
   "execution_count": 63,
   "metadata": {},
   "outputs": [],
   "source": [
    "import pandas as pd\n",
    "import numpy as np\n",
    "import matplotlib.pyplot as plt\n",
    "from sklearn.cluster import KMeans\n",
    "from sklearn.preprocessing import MinMaxScaler\n",
    "\n",
    "%matplotlib inline\n",
    "from matplotlib.pylab import rcParams\n",
    "rcParams['figure.figsize'] = 8,6"
   ]
  },
  {
   "cell_type": "code",
   "execution_count": 64,
   "metadata": {
    "scrolled": false
   },
   "outputs": [],
   "source": [
    "df = pd.read_csv('df_for_ml.csv', index_col=0)"
   ]
  },
  {
   "cell_type": "code",
   "execution_count": 65,
   "metadata": {
    "scrolled": true
   },
   "outputs": [
    {
     "data": {
      "text/html": [
       "<div>\n",
       "<style scoped>\n",
       "    .dataframe tbody tr th:only-of-type {\n",
       "        vertical-align: middle;\n",
       "    }\n",
       "\n",
       "    .dataframe tbody tr th {\n",
       "        vertical-align: top;\n",
       "    }\n",
       "\n",
       "    .dataframe thead th {\n",
       "        text-align: right;\n",
       "    }\n",
       "</style>\n",
       "<table border=\"1\" class=\"dataframe\">\n",
       "  <thead>\n",
       "    <tr style=\"text-align: right;\">\n",
       "      <th></th>\n",
       "      <th>frequency</th>\n",
       "      <th>amount</th>\n",
       "    </tr>\n",
       "    <tr>\n",
       "      <th>phrase</th>\n",
       "      <th></th>\n",
       "      <th></th>\n",
       "    </tr>\n",
       "  </thead>\n",
       "  <tbody>\n",
       "    <tr>\n",
       "      <th>edge computing</th>\n",
       "      <td>142</td>\n",
       "      <td>101232129.0</td>\n",
       "    </tr>\n",
       "    <tr>\n",
       "      <th>cyber-physical systems</th>\n",
       "      <td>434</td>\n",
       "      <td>97693696.0</td>\n",
       "    </tr>\n",
       "    <tr>\n",
       "      <th>deep learning</th>\n",
       "      <td>219</td>\n",
       "      <td>92682024.0</td>\n",
       "    </tr>\n",
       "    <tr>\n",
       "      <th>computing infrastructure</th>\n",
       "      <td>71</td>\n",
       "      <td>85100648.0</td>\n",
       "    </tr>\n",
       "    <tr>\n",
       "      <th>resources networking</th>\n",
       "      <td>96</td>\n",
       "      <td>84117431.0</td>\n",
       "    </tr>\n",
       "    <tr>\n",
       "      <th>cloud computing</th>\n",
       "      <td>367</td>\n",
       "      <td>80545770.0</td>\n",
       "    </tr>\n",
       "    <tr>\n",
       "      <th>computer science</th>\n",
       "      <td>906</td>\n",
       "      <td>77752671.0</td>\n",
       "    </tr>\n",
       "    <tr>\n",
       "      <th>data collection</th>\n",
       "      <td>190</td>\n",
       "      <td>76720518.0</td>\n",
       "    </tr>\n",
       "    <tr>\n",
       "      <th>machine learning</th>\n",
       "      <td>735</td>\n",
       "      <td>72639767.0</td>\n",
       "    </tr>\n",
       "    <tr>\n",
       "      <th>mobile devices</th>\n",
       "      <td>334</td>\n",
       "      <td>69305123.0</td>\n",
       "    </tr>\n",
       "    <tr>\n",
       "      <th>marketplace sites</th>\n",
       "      <td>93</td>\n",
       "      <td>65557771.0</td>\n",
       "    </tr>\n",
       "    <tr>\n",
       "      <th>wireless networks</th>\n",
       "      <td>352</td>\n",
       "      <td>63994980.0</td>\n",
       "    </tr>\n",
       "    <tr>\n",
       "      <th>dynamic spectrum</th>\n",
       "      <td>68</td>\n",
       "      <td>63041877.0</td>\n",
       "    </tr>\n",
       "    <tr>\n",
       "      <th>sensor networks</th>\n",
       "      <td>82</td>\n",
       "      <td>61596127.0</td>\n",
       "    </tr>\n",
       "    <tr>\n",
       "      <th>smart connected</th>\n",
       "      <td>102</td>\n",
       "      <td>61283336.0</td>\n",
       "    </tr>\n",
       "    <tr>\n",
       "      <th>cognitive radio</th>\n",
       "      <td>83</td>\n",
       "      <td>60267440.0</td>\n",
       "    </tr>\n",
       "    <tr>\n",
       "      <th>power systems</th>\n",
       "      <td>54</td>\n",
       "      <td>58526250.0</td>\n",
       "    </tr>\n",
       "    <tr>\n",
       "      <th>reinforcement learning</th>\n",
       "      <td>92</td>\n",
       "      <td>57005254.0</td>\n",
       "    </tr>\n",
       "    <tr>\n",
       "      <th>transition technology</th>\n",
       "      <td>92</td>\n",
       "      <td>53100723.0</td>\n",
       "    </tr>\n",
       "    <tr>\n",
       "      <th>differential privacy</th>\n",
       "      <td>87</td>\n",
       "      <td>52891863.0</td>\n",
       "    </tr>\n",
       "    <tr>\n",
       "      <th>big data</th>\n",
       "      <td>314</td>\n",
       "      <td>52833434.0</td>\n",
       "    </tr>\n",
       "    <tr>\n",
       "      <th>autonomous vehicles</th>\n",
       "      <td>144</td>\n",
       "      <td>52311915.0</td>\n",
       "    </tr>\n",
       "    <tr>\n",
       "      <th>covid-19 pandemic</th>\n",
       "      <td>54</td>\n",
       "      <td>51979790.0</td>\n",
       "    </tr>\n",
       "    <tr>\n",
       "      <th>energy consumption</th>\n",
       "      <td>133</td>\n",
       "      <td>50571393.0</td>\n",
       "    </tr>\n",
       "    <tr>\n",
       "      <th>data mining</th>\n",
       "      <td>85</td>\n",
       "      <td>50363556.0</td>\n",
       "    </tr>\n",
       "    <tr>\n",
       "      <th>resource allocation</th>\n",
       "      <td>154</td>\n",
       "      <td>49861977.0</td>\n",
       "    </tr>\n",
       "    <tr>\n",
       "      <th>sensor data</th>\n",
       "      <td>98</td>\n",
       "      <td>49655788.0</td>\n",
       "    </tr>\n",
       "    <tr>\n",
       "      <th>technology transfer</th>\n",
       "      <td>122</td>\n",
       "      <td>48341404.0</td>\n",
       "    </tr>\n",
       "    <tr>\n",
       "      <th>social networks</th>\n",
       "      <td>101</td>\n",
       "      <td>47223840.0</td>\n",
       "    </tr>\n",
       "    <tr>\n",
       "      <th>public health</th>\n",
       "      <td>89</td>\n",
       "      <td>46050577.0</td>\n",
       "    </tr>\n",
       "    <tr>\n",
       "      <th>operating system</th>\n",
       "      <td>178</td>\n",
       "      <td>45337061.0</td>\n",
       "    </tr>\n",
       "    <tr>\n",
       "      <th>information manipulation</th>\n",
       "      <td>23</td>\n",
       "      <td>45225382.0</td>\n",
       "    </tr>\n",
       "    <tr>\n",
       "      <th>artificial intelligence</th>\n",
       "      <td>137</td>\n",
       "      <td>44775274.0</td>\n",
       "    </tr>\n",
       "    <tr>\n",
       "      <th>source code</th>\n",
       "      <td>102</td>\n",
       "      <td>43154787.0</td>\n",
       "    </tr>\n",
       "    <tr>\n",
       "      <th>data analytics</th>\n",
       "      <td>178</td>\n",
       "      <td>41986623.0</td>\n",
       "    </tr>\n",
       "    <tr>\n",
       "      <th>cyber physical</th>\n",
       "      <td>99</td>\n",
       "      <td>38182852.0</td>\n",
       "    </tr>\n",
       "    <tr>\n",
       "      <th>embedded systems</th>\n",
       "      <td>138</td>\n",
       "      <td>38095675.0</td>\n",
       "    </tr>\n",
       "    <tr>\n",
       "      <th>storage systems</th>\n",
       "      <td>153</td>\n",
       "      <td>37453948.0</td>\n",
       "    </tr>\n",
       "    <tr>\n",
       "      <th>computer systems</th>\n",
       "      <td>154</td>\n",
       "      <td>37337741.0</td>\n",
       "    </tr>\n",
       "    <tr>\n",
       "      <th>internet things</th>\n",
       "      <td>232</td>\n",
       "      <td>37088595.0</td>\n",
       "    </tr>\n",
       "    <tr>\n",
       "      <th>wireless networking</th>\n",
       "      <td>104</td>\n",
       "      <td>35792710.0</td>\n",
       "    </tr>\n",
       "    <tr>\n",
       "      <th>smart grid</th>\n",
       "      <td>84</td>\n",
       "      <td>35336754.0</td>\n",
       "    </tr>\n",
       "    <tr>\n",
       "      <th>data center</th>\n",
       "      <td>202</td>\n",
       "      <td>34363420.0</td>\n",
       "    </tr>\n",
       "    <tr>\n",
       "      <th>social media</th>\n",
       "      <td>160</td>\n",
       "      <td>33700793.0</td>\n",
       "    </tr>\n",
       "    <tr>\n",
       "      <th>public safety</th>\n",
       "      <td>86</td>\n",
       "      <td>32435656.0</td>\n",
       "    </tr>\n",
       "    <tr>\n",
       "      <th>access control</th>\n",
       "      <td>138</td>\n",
       "      <td>30321717.0</td>\n",
       "    </tr>\n",
       "    <tr>\n",
       "      <th>physical systems</th>\n",
       "      <td>87</td>\n",
       "      <td>28130943.0</td>\n",
       "    </tr>\n",
       "    <tr>\n",
       "      <th>security privacy</th>\n",
       "      <td>214</td>\n",
       "      <td>24472342.0</td>\n",
       "    </tr>\n",
       "    <tr>\n",
       "      <th>power consumption</th>\n",
       "      <td>96</td>\n",
       "      <td>24338890.0</td>\n",
       "    </tr>\n",
       "    <tr>\n",
       "      <th>computer vision</th>\n",
       "      <td>109</td>\n",
       "      <td>16715420.0</td>\n",
       "    </tr>\n",
       "    <tr>\n",
       "      <th>iot devices</th>\n",
       "      <td>180</td>\n",
       "      <td>15735953.0</td>\n",
       "    </tr>\n",
       "  </tbody>\n",
       "</table>\n",
       "</div>"
      ],
      "text/plain": [
       "                          frequency       amount\n",
       "phrase                                          \n",
       "edge computing                  142  101232129.0\n",
       "cyber-physical systems          434   97693696.0\n",
       "deep learning                   219   92682024.0\n",
       "computing infrastructure         71   85100648.0\n",
       "resources networking             96   84117431.0\n",
       "cloud computing                 367   80545770.0\n",
       "computer science                906   77752671.0\n",
       "data collection                 190   76720518.0\n",
       "machine learning                735   72639767.0\n",
       "mobile devices                  334   69305123.0\n",
       "marketplace sites                93   65557771.0\n",
       "wireless networks               352   63994980.0\n",
       "dynamic spectrum                 68   63041877.0\n",
       "sensor networks                  82   61596127.0\n",
       "smart connected                 102   61283336.0\n",
       "cognitive radio                  83   60267440.0\n",
       "power systems                    54   58526250.0\n",
       "reinforcement learning           92   57005254.0\n",
       "transition technology            92   53100723.0\n",
       "differential privacy             87   52891863.0\n",
       "big data                        314   52833434.0\n",
       "autonomous vehicles             144   52311915.0\n",
       "covid-19 pandemic                54   51979790.0\n",
       "energy consumption              133   50571393.0\n",
       "data mining                      85   50363556.0\n",
       "resource allocation             154   49861977.0\n",
       "sensor data                      98   49655788.0\n",
       "technology transfer             122   48341404.0\n",
       "social networks                 101   47223840.0\n",
       "public health                    89   46050577.0\n",
       "operating system                178   45337061.0\n",
       "information manipulation         23   45225382.0\n",
       "artificial intelligence         137   44775274.0\n",
       "source code                     102   43154787.0\n",
       "data analytics                  178   41986623.0\n",
       "cyber physical                   99   38182852.0\n",
       "embedded systems                138   38095675.0\n",
       "storage systems                 153   37453948.0\n",
       "computer systems                154   37337741.0\n",
       "internet things                 232   37088595.0\n",
       "wireless networking             104   35792710.0\n",
       "smart grid                       84   35336754.0\n",
       "data center                     202   34363420.0\n",
       "social media                    160   33700793.0\n",
       "public safety                    86   32435656.0\n",
       "access control                  138   30321717.0\n",
       "physical systems                 87   28130943.0\n",
       "security privacy                214   24472342.0\n",
       "power consumption                96   24338890.0\n",
       "computer vision                 109   16715420.0\n",
       "iot devices                     180   15735953.0"
      ]
     },
     "execution_count": 65,
     "metadata": {},
     "output_type": "execute_result"
    }
   ],
   "source": [
    "df.sort_values(by=['amount'], ascending=False)"
   ]
  },
  {
   "cell_type": "code",
   "execution_count": 66,
   "metadata": {},
   "outputs": [
    {
     "data": {
      "text/plain": [
       "Text(0, 0.5, 'frequency')"
      ]
     },
     "execution_count": 66,
     "metadata": {},
     "output_type": "execute_result"
    },
    {
     "data": {
      "image/png": "[encoded data removed]",
      "text/plain": [
       "<Figure size 576x432 with 1 Axes>"
      ]
     },
     "metadata": {
      "needs_background": "light"
     },
     "output_type": "display_data"
    }
   ],
   "source": [
    "plt.scatter(df['amount'],df['frequency'])\n",
    "plt.xlabel('amount')\n",
    "plt.ylabel('frequency')"
   ]
  },
  {
   "cell_type": "code",
   "execution_count": 67,
   "metadata": {
    "scrolled": false
   },
   "outputs": [
    {
     "data": {
      "text/plain": [
       "<matplotlib.legend.Legend at 0x22dffe98c48>"
      ]
     },
     "execution_count": 67,
     "metadata": {},
     "output_type": "execute_result"
    },
    {
     "data": {
      "image/png": "[encoded data removed]",
      "text/plain": [
       "<Figure size 576x432 with 1 Axes>"
      ]
     },
     "metadata": {
      "needs_background": "light"
     },
     "output_type": "display_data"
    }
   ],
   "source": [
    "km1 = KMeans(n_clusters=3)\n",
    "y_predicted = km1.fit_predict(df[['amount','frequency']])\n",
    "df['cluster'] = y_predicted\n",
    "df1 = df[df.cluster == 0]\n",
    "df2 = df[df.cluster == 1]\n",
    "df3 = df[df.cluster == 2]\n",
    "\n",
    "plt.scatter(df1.amount,df1['frequency'], color='green', label='cluster0')\n",
    "plt.scatter(df2.amount,df2['frequency'], color='red',label='cluster1')\n",
    "plt.scatter(df3.amount,df3['frequency'], color='black',label='cluster2')\n",
    "\n",
    "plt.xlabel('amount')\n",
    "plt.ylabel('frequency')\n",
    "plt.legend()"
   ]
  },
  {
   "cell_type": "code",
   "execution_count": 68,
   "metadata": {},
   "outputs": [],
   "source": [
    "scaler = MinMaxScaler()\n",
    "df_norm = df.copy()\n",
    "scaler.fit(df_norm[['amount']])\n",
    "df_norm['amount'] = scaler.transform(df_norm[['amount']])\n",
    "\n",
    "scaler.fit(df_norm[['frequency']])\n",
    "df_norm['frequency'] = scaler.transform(df_norm[['frequency']])"
   ]
  },
  {
   "cell_type": "code",
   "execution_count": 73,
   "metadata": {},
   "outputs": [],
   "source": [
    "km = KMeans(n_clusters=4)\n",
    "y_predicted1 = km.fit_predict(df_norm[['amount','frequency']])\n",
    "df_norm['cluster'] = y_predicted1\n",
    "df1_norm = df_norm[df_norm.cluster == 0]\n",
    "df2_norm = df_norm[df_norm.cluster == 1]\n",
    "df3_norm = df_norm[df_norm.cluster == 2]"
   ]
  },
  {
   "cell_type": "code",
   "execution_count": 74,
   "metadata": {
    "scrolled": false
   },
   "outputs": [
    {
     "data": {
      "text/plain": [
       "<matplotlib.legend.Legend at 0x22d83fc0908>"
      ]
     },
     "execution_count": 74,
     "metadata": {},
     "output_type": "execute_result"
    },
    {
     "data": {
      "image/png": "[encoded data removed]",
      "text/plain": [
       "<Figure size 576x432 with 1 Axes>"
      ]
     },
     "metadata": {
      "needs_background": "light"
     },
     "output_type": "display_data"
    }
   ],
   "source": [
    "plt.scatter(df1_norm.amount,df1_norm['frequency'], color='green', label='cluster0')\n",
    "plt.scatter(df2_norm.amount,df2_norm['frequency'], color='red',label='cluster1')\n",
    "plt.scatter(df3_norm.amount,df3_norm['frequency'], color='black',label='cluster2')\n",
    "plt.scatter(km.cluster_centers_[:,0],km.cluster_centers_[:,1],color='purple',marker='*',label='centroid')\n",
    "\n",
    "plt.xlabel('amount')\n",
    "plt.ylabel('frequency')\n",
    "plt.legend()"
   ]
  },
  {
   "cell_type": "code",
   "execution_count": 75,
   "metadata": {},
   "outputs": [],
   "source": [
    "k_range = range(1,10)\n",
    "sse = []\n",
    "for k in k_range:\n",
    "    km = KMeans(n_clusters=k)\n",
    "    km.fit(df_norm[['amount','frequency']])\n",
    "    sse.append(km.inertia_)"
   ]
  },
  {
   "cell_type": "code",
   "execution_count": 76,
   "metadata": {},
   "outputs": [
    {
     "data": {
      "text/plain": [
       "[<matplotlib.lines.Line2D at 0x22d84023688>]"
      ]
     },
     "execution_count": 76,
     "metadata": {},
     "output_type": "execute_result"
    },
    {
     "data": {
      "image/png": "[encoded data removed]",
      "text/plain": [
       "<Figure size 576x432 with 1 Axes>"
      ]
     },
     "metadata": {
      "needs_background": "light"
     },
     "output_type": "display_data"
    }
   ],
   "source": [
    "plt.xlabel('K')\n",
    "plt.ylabel('Sum of squared error')\n",
    "plt.plot(k_range, sse)"
   ]
  },
  {
   "cell_type": "markdown",
   "metadata": {},
   "source": [
    "# Time Series Analysis"
   ]
  },
  {
   "cell_type": "code",
   "execution_count": 12,
   "metadata": {},
   "outputs": [],
   "source": [
    "dataset = pd.read_csv('df_frequency.csv', index_col=0)\n",
    "dataset['effective_date'] = pd.to_datetime(dataset['effective_date'], infer_datetime_format=True)\n",
    "df_time = dataset[['effective_date', 'machine learning']]\n",
    "indexedDataset = df_time.set_index(['effective_date'])\n",
    "\n",
    "datasetMonthly = indexedDataset.groupby(pd.Grouper(freq=\"Y\")).sum()\n",
    "datasetMonthly.drop(datasetMonthly.tail(1).index,inplace=True)"
   ]
  },
  {
   "cell_type": "code",
   "execution_count": 13,
   "metadata": {},
   "outputs": [
    {
     "data": {
      "text/plain": [
       "[<matplotlib.lines.Line2D at 0x22dff50b788>]"
      ]
     },
     "execution_count": 13,
     "metadata": {},
     "output_type": "execute_result"
    },
    {
     "data": {
      "image/png": "[encoded data removed]",
      "text/plain": [
       "<Figure size 432x288 with 1 Axes>"
      ]
     },
     "metadata": {
      "needs_background": "light"
     },
     "output_type": "display_data"
    }
   ],
   "source": [
    "plt.xlabel(\"Keyword\")\n",
    "plt.ylabel(\"Frequency\")\n",
    "plt.plot(datasetMonthly)"
   ]
  },
  {
   "cell_type": "code",
   "execution_count": 14,
   "metadata": {},
   "outputs": [],
   "source": [
    "# from fbprophet import Prophet"
   ]
  }
 ],
 "metadata": {
  "kernelspec": {
   "display_name": "Python 3",
   "language": "python",
   "name": "python3"
  },
  "language_info": {
   "codemirror_mode": {
    "name": "ipython",
    "version": 3
   },
   "file_extension": ".py",
   "mimetype": "text/x-python",
   "name": "python",
   "nbconvert_exporter": "python",
   "pygments_lexer": "ipython3",
   "version": "3.7.4"
  }
 },
 "nbformat": 4,
 "nbformat_minor": 2
}
